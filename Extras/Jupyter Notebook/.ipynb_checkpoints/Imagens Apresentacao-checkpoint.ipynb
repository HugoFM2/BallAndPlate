{
 "cells": [
  {
   "cell_type": "code",
   "execution_count": 11,
   "id": "d6618687",
   "metadata": {},
   "outputs": [],
   "source": [
    "\n",
    "import plotly.express as px\n",
    "# import cv2, sys\n",
    "import sys, os\n",
    "import numpy as np\n",
    "from IPython.display import display, Image\n",
    "import ipywidgets as widgets\n",
    "import threading"
   ]
  },
  {
   "cell_type": "code",
   "execution_count": 17,
   "id": "747a83ce",
   "metadata": {},
   "outputs": [],
   "source": [
    "# Importar path anterior\n",
    "module_path = os.path.abspath(os.path.join('..'))\n",
    "if module_path not in sys.path:\n",
    "    sys.path.append(module_path)\n",
    "# Import from created files\n",
    "\n",
    "from CinematicaInversa.Servo import Servo\n",
    "\n",
    "# from PlotFunctions import plot3dMatrix, text3d, drawLinePoints, drawCircle, plotRadius\n",
    "# from MatrixFunctions import rotate3d, translate3d\n"
   ]
  }
 ],
 "metadata": {
  "kernelspec": {
   "display_name": "Python 3 (ipykernel)",
   "language": "python",
   "name": "python3"
  },
  "language_info": {
   "codemirror_mode": {
    "name": "ipython",
    "version": 3
   },
   "file_extension": ".py",
   "mimetype": "text/x-python",
   "name": "python",
   "nbconvert_exporter": "python",
   "pygments_lexer": "ipython3",
   "version": "3.8.5"
  }
 },
 "nbformat": 4,
 "nbformat_minor": 5
}
